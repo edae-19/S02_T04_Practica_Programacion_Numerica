{
 "cells": [
  {
   "cell_type": "markdown",
   "metadata": {},
   "source": [
    "# S02 T04: Pràctica amb programació numèrica\n",
    "\n",
    "#### David Arroyo"
   ]
  },
  {
   "cell_type": "code",
   "execution_count": 1,
   "metadata": {},
   "outputs": [],
   "source": [
    "import numpy as np"
   ]
  },
  {
   "cell_type": "code",
   "execution_count": 2,
   "metadata": {},
   "outputs": [],
   "source": [
    "# EJERCICIO 1\n",
    "def resumen_estadistico (array):\n",
    "    dimension = array.ndim\n",
    "    \n",
    "    if dimension != 1:\n",
    "        print (\"No se puede realizar el resumen estadístico porque la dimension del array es diferente de 1\")\n",
    "        \n",
    "    else:\n",
    "        samples = len(array)\n",
    "        mean = array.mean()\n",
    "        maximum = array.max()\n",
    "        minimum = array.min()\n",
    "        standardDeviation = np.std(array)\n",
    "        \n",
    "        print (\"El resumen estadístico de los datos es:\")\n",
    "        print (\"Numero de muestras: {}\".format(samples))\n",
    "        print (\"Promedio: {}\".format(mean))\n",
    "        print (\"Valor máximo: {}\". format(maximum))\n",
    "        print (\"Valor minimo: {}\".format(minimum))\n",
    "        print (\"Desviacion estandar: {}\".format(standardDeviation))\n",
    "        "
   ]
  },
  {
   "cell_type": "code",
   "execution_count": 3,
   "metadata": {},
   "outputs": [
    {
     "name": "stdout",
     "output_type": "stream",
     "text": [
      "El resumen estadístico de los datos es:\n",
      "Numero de muestras: 4\n",
      "Promedio: 3.25\n",
      "Valor máximo: 7\n",
      "Valor minimo: 1\n",
      "Desviacion estandar: 2.277608394786075\n"
     ]
    }
   ],
   "source": [
    "array = np.array([1,2,3,7])\n",
    "\n",
    "resumen_estadistico (array)"
   ]
  },
  {
   "cell_type": "code",
   "execution_count": 4,
   "metadata": {},
   "outputs": [],
   "source": [
    "# EJERCICIO 2\n",
    "\n",
    "def matriz_aleatoria (filas, columnas):\n",
    "    from numpy import random\n",
    "    matriz = random.randint (100, size = (filas, columnas))\n",
    "    return matriz\n"
   ]
  },
  {
   "cell_type": "code",
   "execution_count": 5,
   "metadata": {},
   "outputs": [
    {
     "data": {
      "text/plain": [
       "array([[94, 26, 82, 20],\n",
       "       [24, 22, 28, 14],\n",
       "       [47, 45,  3, 29]])"
      ]
     },
     "execution_count": 5,
     "metadata": {},
     "output_type": "execute_result"
    }
   ],
   "source": [
    "filas = 3\n",
    "columnas = 4\n",
    "\n",
    "matriz = matriz_aleatoria (filas, columnas)\n",
    "matriz"
   ]
  },
  {
   "cell_type": "code",
   "execution_count": 6,
   "metadata": {},
   "outputs": [],
   "source": [
    "# EJERCICIO 3\n",
    "import pandas as pd"
   ]
  },
  {
   "cell_type": "code",
   "execution_count": 7,
   "metadata": {},
   "outputs": [],
   "source": [
    "participantes = {\n",
    "    \"altura\": [172,186,192,165,170,176],\n",
    "    \"peso\": [66,82,85,60,65,71],\n",
    "    \"edad\": [19,22,18,21,21,22],\n",
    "    \"nacionalidad\": [\"España\", \"Francia\", \"Portugal\", \"Alemania\", \"Italia\", \"Belgica\"]\n",
    "}\n",
    "    \n",
    "participantes_df = pd.DataFrame(participantes)"
   ]
  },
  {
   "cell_type": "code",
   "execution_count": 8,
   "metadata": {},
   "outputs": [],
   "source": [
    "def total_filas_columnas (dataFrame):\n",
    "    total_rows = dataFrame.shape[0]\n",
    "    total_columns = dataFrame.shape[1]\n",
    "    \n",
    "    print (\"La tabla tiene {} columnas y {} filas\". format(total_columns, total_rows))"
   ]
  },
  {
   "cell_type": "code",
   "execution_count": 9,
   "metadata": {},
   "outputs": [
    {
     "name": "stdout",
     "output_type": "stream",
     "text": [
      "La tabla tiene 4 columnas y 6 filas\n"
     ]
    }
   ],
   "source": [
    "total_filas_columnas (participantes_df)"
   ]
  },
  {
   "cell_type": "code",
   "execution_count": 10,
   "metadata": {},
   "outputs": [],
   "source": [
    "# EJERCICIO 4\n",
    "\n",
    "filas = 10\n",
    "columnas = 2\n",
    "\n",
    "matriz = matriz_aleatoria (filas, columnas)"
   ]
  },
  {
   "cell_type": "code",
   "execution_count": 11,
   "metadata": {},
   "outputs": [],
   "source": [
    "def coeficiente_correlacion (array):\n",
    "    dimension = array.ndim\n",
    "    shape = array.shape\n",
    "    total_columns = shape[1]\n",
    "    total_rows = shape[0]\n",
    "    mean = array.mean(axis = 0)\n",
    "    x_mean = mean[0]\n",
    "    y_mean = mean[1]\n",
    "    sum = 0\n",
    "    \n",
    "    if (dimension != 2 or total_columns != 2):\n",
    "        print (\"No se puede calcuar el coeficiente de correlación con las dimensiones de la tabla.\\nCalcular Matriz de Correlación para este arreglo\")\n",
    "    else:\n",
    "        for i in range (total_rows):\n",
    "            sum += (array [i,0] - x_mean)*(array [i,1] - y_mean)\n",
    "    \n",
    "            covarianza = sum / total_rows\n",
    "    \n",
    "        coeficienteCorrelacion = covarianza / (x_mean*y_mean)\n",
    "    \n",
    "        print (\"Coeficiente de Correlación = {}\".format(coeficienteCorrelacion))\n",
    "        "
   ]
  },
  {
   "cell_type": "code",
   "execution_count": 12,
   "metadata": {},
   "outputs": [
    {
     "name": "stdout",
     "output_type": "stream",
     "text": [
      "Coeficiente de Correlación = -0.00320843116215326\n"
     ]
    }
   ],
   "source": [
    "coeficiente_correlacion (matriz)"
   ]
  },
  {
   "cell_type": "code",
   "execution_count": null,
   "metadata": {},
   "outputs": [],
   "source": []
  }
 ],
 "metadata": {
  "kernelspec": {
   "display_name": "Python 3",
   "language": "python",
   "name": "python3"
  },
  "language_info": {
   "codemirror_mode": {
    "name": "ipython",
    "version": 3
   },
   "file_extension": ".py",
   "mimetype": "text/x-python",
   "name": "python",
   "nbconvert_exporter": "python",
   "pygments_lexer": "ipython3",
   "version": "3.8.3"
  }
 },
 "nbformat": 4,
 "nbformat_minor": 4
}
